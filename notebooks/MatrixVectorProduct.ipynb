{
 "cells": [
  {
   "cell_type": "markdown",
   "metadata": {},
   "source": [
    "# License\n",
    "\n",
    "    Jupyter notebook for accessing CUDA\n",
    "    Copyright (C) 2018 Andre.Brodtkorb@ifi.uio.no\n",
    "    changed in October by Thomas Bellotti\n",
    "\n",
    "    This program is free software: you can redistribute it and/or modify\n",
    "    it under the terms of the GNU General Public License as published by\n",
    "    the Free Software Foundation, either version 3 of the License, or\n",
    "    (at your option) any later version.\n",
    "\n",
    "    This program is distributed in the hope that it will be useful,\n",
    "    but WITHOUT ANY WARRANTY; without even the implied warranty of\n",
    "    MERCHANTABILITY or FITNESS FOR A PARTICULAR PURPOSE.  See the\n",
    "    GNU General Public License for more details.\n",
    "\n",
    "    You should have received a copy of the GNU General Public License\n",
    "    along with this program.  If not, see <http://www.gnu.org/licenses/>."
   ]
  },
  {
   "cell_type": "code",
   "execution_count": 17,
   "metadata": {},
   "outputs": [],
   "source": [
    "#Lets have matplotlib \"inline\"\n",
    "%matplotlib inline\n",
    "\n",
    "#Import packages we need\n",
    "import numpy as np\n",
    "import pycuda.compiler as cuda_compiler\n",
    "from pycuda.gpuarray import GPUArray\n",
    "import pycuda.driver as cuda_driver\n",
    "\n",
    "from matplotlib import pyplot as plt"
   ]
  },
  {
   "cell_type": "code",
   "execution_count": 18,
   "metadata": {},
   "outputs": [],
   "source": [
    "#Initialize CUDA - must be first call to CUDA!\n",
    "cuda_driver.init()"
   ]
  },
  {
   "cell_type": "code",
   "execution_count": 19,
   "metadata": {},
   "outputs": [
    {
     "name": "stdout",
     "output_type": "stream",
     "text": [
      "Using 'Tesla K80'\n",
      " => compute capability: (3, 7)\n",
      " => memory: 10204 / 11441 MB available\n"
     ]
    }
   ],
   "source": [
    "#Create CUDA context\n",
    "cuda_device = cuda_driver.Device(0)\n",
    "print(\"Using '{:s}'\".format(cuda_device.name()))\n",
    "print(\" => compute capability: {:s}\".format(str(cuda_device.compute_capability())))\n",
    "context = cuda_device.make_context()\n",
    "free, total = cuda_driver.mem_get_info()\n",
    "print(\" => memory: {:d} / {:d} MB available\".format(int(free/(1024*1024)), int(total/(1024*1024))))"
   ]
  },
  {
   "cell_type": "code",
   "execution_count": 20,
   "metadata": {},
   "outputs": [],
   "source": [
    "cuda_kernel = \"\"\"\n",
    "__global__ void addVectorKernel(float* c, float* a, float* b) {\n",
    "    unsigned int i = blockIdx.x*blockDim.x + threadIdx.x;\n",
    "    c[i] = a[i] + b[i];\n",
    "}\n",
    "\n",
    "__global__ void addMatrixKernel (float * c, float * a, float * b, int cols) {\n",
    "    unsigned int i = blockIdx.x*blockDim.x + threadIdx.x;\n",
    "    unsigned int j = blockIdx.y*blockDim.y + threadIdx.y;\n",
    "    // Do...\n",
    "    // c[j][i] = a[j][i] + b[j][i]\n",
    "    unsigned int k = j*cols + i;\n",
    "    c[k] = a[k] + b[k];\n",
    "}\n",
    "// Note: we have to implement the function matrixVectorKernel\n",
    "// c = A*b\n",
    "__global__ void addMatrixVectorKernel (float * c, float * A, float * b, int a_rows, int a_cols)\n",
    "{\n",
    " // .... a for loop computing a vector-vector inner produc\n",
    " \n",
    " /* My solution was quite correct except for the use of c instead of a local variable\n",
    " \n",
    "     unsigned int i = blockIdx.x*blockDim.x + threadIdx.x;\n",
    "\n",
    "     c[i] = 0;\n",
    "\n",
    "     for (int j = 0; j < a_cols; ++i)\n",
    "     {     \n",
    "         unsigned int k = j + i;\n",
    "         c[i]+=a[k]*b[j]; \n",
    "     }\n",
    "     \n",
    "     // SOlution\n",
    "     */\n",
    "     \n",
    "     \n",
    "     unsigned int j = blockIdx.y*blockDim.y + threadIdx.y;\n",
    "     float sum = 0.0f; // The f is important, since double are expensive\n",
    "     \n",
    "     for (int i = 0; i < a_cols; ++i){\n",
    "         unsigned int k = j*a_cols + i;\n",
    "         sum += A[k]*b[i];\n",
    "     }\n",
    "     \n",
    "     c[j] = sum;\n",
    "     \n",
    "}\n",
    "\"\"\"\n",
    "module = cuda_compiler.SourceModule(cuda_kernel)\n",
    "#kernel = module.get_function(\"addMatrixKernel\");\n",
    "kernel = module.get_function(\"addMatrixVectorKernel\");"
   ]
  },
  {
   "cell_type": "code",
   "execution_count": 21,
   "metadata": {},
   "outputs": [
    {
     "data": {
      "image/png": "[encoded data removed]",
      "text/plain": [
       "<matplotlib.figure.Figure at 0x7fe1c6d93198>"
      ]
     },
     "metadata": {
      "needs_background": "light"
     },
     "output_type": "display_data"
    }
   ],
   "source": [
    "#Size of our test\n",
    "test_size = (16,24)\n",
    "\n",
    "\n",
    "#Create test input / output data\n",
    "a = np.random.random((4,3)).astype(np.float32)\n",
    "b = np.random.random((3,1)).astype(np.float32)\n",
    "c = np.empty((4,1))\n",
    "\n",
    "fig = plt.figure(figsize = (12,8))\n",
    "plt.imshow(a)\n",
    "plt.colorbar()\n",
    "plt.show()\n",
    "\n"
   ]
  },
  {
   "cell_type": "code",
   "execution_count": 7,
   "metadata": {},
   "outputs": [
    {
     "name": "stdout",
     "output_type": "stream",
     "text": [
      "(16, 24)\n"
     ]
    }
   ],
   "source": [
    "print(a.shape)"
   ]
  },
  {
   "cell_type": "code",
   "execution_count": 8,
   "metadata": {},
   "outputs": [
    {
     "name": "stdout",
     "output_type": "stream",
     "text": [
      "(16, 24)\n"
     ]
    }
   ],
   "source": [
    "#Upload data to the device\n",
    "#Note: we have to make sure that a = (rows, colums) and that b = (columns in A, 1) (column vector)\n",
    "# and that c = (rows in A, 1)\n",
    "a_shape = a.shape\n",
    "print(a_shape)"
   ]
  },
  {
   "cell_type": "code",
   "execution_count": 22,
   "metadata": {},
   "outputs": [
    {
     "ename": "ValueError",
     "evalue": "ary and self must be the same size",
     "output_type": "error",
     "traceback": [
      "\u001b[0;31m---------------------------------------------------------------------------\u001b[0m",
      "\u001b[0;31mValueError\u001b[0m                                Traceback (most recent call last)",
      "\u001b[0;32m<ipython-input-22-07c27d10d966>\u001b[0m in \u001b[0;36m<module>\u001b[0;34m\u001b[0m\n\u001b[1;32m      1\u001b[0m \u001b[0ma_g\u001b[0m \u001b[0;34m=\u001b[0m \u001b[0mGPUArray\u001b[0m\u001b[0;34m(\u001b[0m\u001b[0ma_shape\u001b[0m\u001b[0;34m,\u001b[0m \u001b[0mnp\u001b[0m\u001b[0;34m.\u001b[0m\u001b[0mfloat32\u001b[0m\u001b[0;34m)\u001b[0m\u001b[0;34m\u001b[0m\u001b[0m\n\u001b[1;32m      2\u001b[0m \u001b[0mb_g\u001b[0m \u001b[0;34m=\u001b[0m \u001b[0mGPUArray\u001b[0m\u001b[0;34m(\u001b[0m\u001b[0ma_shape\u001b[0m\u001b[0;34m,\u001b[0m \u001b[0mnp\u001b[0m\u001b[0;34m.\u001b[0m\u001b[0mfloat32\u001b[0m\u001b[0;34m)\u001b[0m\u001b[0;34m\u001b[0m\u001b[0m\n\u001b[0;32m----> 3\u001b[0;31m \u001b[0ma_g\u001b[0m\u001b[0;34m.\u001b[0m\u001b[0mset\u001b[0m\u001b[0;34m(\u001b[0m\u001b[0ma\u001b[0m\u001b[0;34m)\u001b[0m\u001b[0;34m\u001b[0m\u001b[0m\n\u001b[0m\u001b[1;32m      4\u001b[0m \u001b[0mb_g\u001b[0m\u001b[0;34m.\u001b[0m\u001b[0mset\u001b[0m\u001b[0;34m(\u001b[0m\u001b[0mb\u001b[0m\u001b[0;34m)\u001b[0m\u001b[0;34m\u001b[0m\u001b[0m\n",
      "\u001b[0;32m~/.local/lib/python3.6/site-packages/pycuda/gpuarray.py\u001b[0m in \u001b[0;36mset\u001b[0;34m(self, ary, async_, stream, **kwargs)\u001b[0m\n\u001b[1;32m    247\u001b[0m \u001b[0;34m\u001b[0m\u001b[0m\n\u001b[1;32m    248\u001b[0m         \u001b[0;32mif\u001b[0m \u001b[0mary\u001b[0m\u001b[0;34m.\u001b[0m\u001b[0msize\u001b[0m \u001b[0;34m!=\u001b[0m \u001b[0mself\u001b[0m\u001b[0;34m.\u001b[0m\u001b[0msize\u001b[0m\u001b[0;34m:\u001b[0m\u001b[0;34m\u001b[0m\u001b[0m\n\u001b[0;32m--> 249\u001b[0;31m             \u001b[0;32mraise\u001b[0m \u001b[0mValueError\u001b[0m\u001b[0;34m(\u001b[0m\u001b[0;34m\"ary and self must be the same size\"\u001b[0m\u001b[0;34m)\u001b[0m\u001b[0;34m\u001b[0m\u001b[0m\n\u001b[0m\u001b[1;32m    250\u001b[0m         \u001b[0;32mif\u001b[0m \u001b[0mary\u001b[0m\u001b[0;34m.\u001b[0m\u001b[0mshape\u001b[0m \u001b[0;34m!=\u001b[0m \u001b[0mself\u001b[0m\u001b[0;34m.\u001b[0m\u001b[0mshape\u001b[0m\u001b[0;34m:\u001b[0m\u001b[0;34m\u001b[0m\u001b[0m\n\u001b[1;32m    251\u001b[0m             \u001b[0;32mfrom\u001b[0m \u001b[0mwarnings\u001b[0m \u001b[0;32mimport\u001b[0m \u001b[0mwarn\u001b[0m\u001b[0;34m\u001b[0m\u001b[0m\n",
      "\u001b[0;31mValueError\u001b[0m: ary and self must be the same size"
     ]
    }
   ],
   "source": [
    "a_g = GPUArray(a_shape, np.float32)\n",
    "b_g = GPUArray(a_shape, np.float32)\n",
    "a_g.set(a)\n",
    "b_g.set(b)"
   ]
  },
  {
   "cell_type": "code",
   "execution_count": 10,
   "metadata": {},
   "outputs": [],
   "source": [
    "#Allocate output data\n",
    "c_g = GPUArray(a_shape[0], np.float32)"
   ]
  },
  {
   "cell_type": "code",
   "execution_count": 14,
   "metadata": {},
   "outputs": [
    {
     "name": "stdout",
     "output_type": "stream",
     "text": [
      "Block size = (1, 1, 1)\n",
      "Grid size = (16, 1, 1)\n",
      "Domain size = (16, 24)\n"
     ]
    }
   ],
   "source": [
    "# a.shape =  (rows, columns) --> [y,x]\n",
    "domain_size = (a.shape[0],a.shape[1]) # Now domain size is [x,y]\n",
    "\n",
    "# NOte that we need to change this in order to be x = 1 and y = #of rows in A\n",
    "\n",
    "block_size = (1,1,1) # This needs to be [x,y,z]\n",
    "grid_size = (domain_size[0] // block_size[0], 1, 1) # // is the integer division in modern python\n",
    "print(\"Block size = \" + str(block_size))\n",
    "print(\"Grid size = \" + str (grid_size))\n",
    "print(\"Domain size = \" + str(domain_size))"
   ]
  },
  {
   "cell_type": "code",
   "execution_count": 16,
   "metadata": {},
   "outputs": [
    {
     "data": {
      "text/plain": [
       "array([2.63217, 0.     , 0.     , 0.     , 0.     , 0.     , 0.     ,\n",
       "       0.     , 0.     , 0.     , 0.     , 0.     , 0.     , 0.     ,\n",
       "       0.     , 0.     ], dtype=float32)"
      ]
     },
     "execution_count": 16,
     "metadata": {},
     "output_type": "execute_result"
    }
   ],
   "source": [
    "#Execute program on device\n",
    "kernel(c_g, a_g, b_g, np.int32(domain_size[1]), np.int32(domain_size[0]), block=block_size, grid=grid_size)\n",
    "\n",
    "#Copy data from device to host\n",
    "c_g.get(c)"
   ]
  },
  {
   "cell_type": "code",
   "execution_count": 43,
   "metadata": {},
   "outputs": [
    {
     "name": "stdout",
     "output_type": "stream",
     "text": [
      "C   =  [3.4516053 0.        0.        0.        0.        0.        0.\n",
      " 0.        0.        0.        0.        0.        0.        0.\n",
      " 0.        0.       ]\n",
      "Ref =  [[1.1085651  1.4991238  0.79989314 1.4544232  0.48324126 0.93999213\n",
      "  1.1217567  0.4726387  1.4081647  1.0956933  0.41127402 1.2377403\n",
      "  0.7128626  0.41596764 1.0291266  1.2289723  1.1958678  1.6720377\n",
      "  1.0418696  0.3290859  0.27561504 1.1961894  0.9377856  0.7672279 ]\n",
      " [1.1795946  0.78494954 1.0294585  0.97696495 0.6443581  0.81723034\n",
      "  0.99044687 0.9615631  0.56221694 0.32306418 1.1221373  1.9552861\n",
      "  0.57946175 0.34487852 0.8186468  0.7130165  1.7540631  0.9598453\n",
      "  1.8095504  1.0730743  0.5107528  1.5756875  0.22641379 1.1913673 ]\n",
      " [1.4126525  0.9659933  0.80843234 1.80986    0.31497496 0.2924969\n",
      "  1.5099473  0.48850346 0.72227347 1.1935116  0.7167786  1.5600047\n",
      "  0.87050045 0.86112815 1.8017364  1.549468   0.8739138  1.085296\n",
      "  1.4976192  0.9504899  0.90847564 1.2169344  0.5324544  0.8433567 ]\n",
      " [0.5820235  1.1176183  0.80945444 1.6467543  0.39735267 0.19714926\n",
      "  1.1772232  0.96674514 1.1228371  0.91853577 0.6793096  1.5492251\n",
      "  1.128625   1.1129369  1.4974529  1.3866926  1.1856613  0.94343567\n",
      "  1.6094016  0.3281355  0.8276267  1.2496138  0.7726935  0.780725  ]\n",
      " [1.0149095  0.98177934 0.54246426 1.5525382  0.40563995 0.15656555\n",
      "  1.4202694  1.3912636  0.6854897  0.5639357  0.62306726 1.5040478\n",
      "  0.7693772  0.4025496  1.0322225  0.7739324  1.7094507  1.3721869\n",
      "  1.8668864  0.9202544  0.09980489 0.81640416 0.4172207  0.71239096]\n",
      " [1.0819632  0.6099523  0.67891705 1.2039282  0.9070624  0.27486905\n",
      "  0.976841   0.7853794  1.0939949  0.45428956 1.1243215  1.5472816\n",
      "  1.3499022  0.3702995  0.8950081  0.7733619  1.7800045  0.8165464\n",
      "  1.8051767  0.68654597 0.9040994  1.7526565  0.07184497 1.3404238 ]\n",
      " [0.68758976 0.71821135 0.9108856  1.2676121  0.1652076  0.25811315\n",
      "  1.454248   0.9568019  0.8177721  1.1650658  1.1905849  1.9241991\n",
      "  0.9281735  0.8551162  1.6632774  1.5754066  0.960761   1.0701934\n",
      "  1.5592749  0.8673533  0.86945033 1.3212752  0.04437156 1.0138977 ]\n",
      " [1.3519665  0.9991836  0.8428794  1.181386   0.6429238  0.4965407\n",
      "  1.2947264  1.3068975  0.4417766  0.63895214 0.76289135 1.7657974\n",
      "  1.1313598  0.62869555 1.7116156  1.2450585  1.2145002  1.4436774\n",
      "  0.9064281  0.91278064 0.8164992  1.3584261  0.3814563  1.4408357 ]\n",
      " [1.4416704  1.2886791  0.26364285 1.735065   0.41729882 0.10173656\n",
      "  0.84482205 0.57545936 0.43610513 0.43859786 0.25642282 1.5171807\n",
      "  1.3786006  0.30270436 0.9075153  0.86159295 1.6851265  1.4516591\n",
      "  1.3290496  0.7768432  0.47799793 1.1111709  0.60914785 0.95700514]\n",
      " [1.1150527  1.0065995  1.0363119  0.95322615 0.68224245 0.8353892\n",
      "  0.770977   0.50378287 1.3101636  0.9783578  0.33904904 1.5003122\n",
      "  0.7700832  1.0605164  1.1200886  0.81453675 1.6804924  1.1881244\n",
      "  1.8320446  0.21539646 0.09960494 1.1114326  0.801947   0.7865905 ]\n",
      " [1.4321034  1.3833838  0.22480613 1.3557297  0.07294732 0.2226803\n",
      "  0.9493761  1.1653919  1.0953598  1.0330939  0.93443805 1.9582837\n",
      "  0.9098916  1.0263605  0.9712275  1.3983073  0.9942087  1.600682\n",
      "  1.2789226  0.10315554 0.6260098  0.8750559  0.22129238 1.1993576 ]\n",
      " [1.4380684  0.93069124 0.9439917  1.0283082  0.945844   1.0240816\n",
      "  0.9838798  1.1475372  0.61480695 0.35869306 0.35592902 1.7682595\n",
      "  1.102037   0.76058364 1.521172   1.5322206  0.944251   0.9960302\n",
      "  0.9420636  0.5128098  0.6590335  1.6392658  0.73526955 1.4052683 ]\n",
      " [1.4294621  1.1246595  0.6284056  1.000067   0.7677852  0.28772962\n",
      "  1.1336521  1.1713699  0.6455341  0.29477412 1.1524589  1.4372616\n",
      "  0.97260183 0.9450836  1.0891917  0.71648383 1.4293003  1.5090914\n",
      "  1.7099245  1.0440546  0.31424353 1.082207   0.8700719  0.731462  ]\n",
      " [0.8957692  1.4456458  0.44921878 1.201817   0.614543   0.16907884\n",
      "  1.3576226  1.2790985  0.93549114 1.0892854  0.9733513  1.8868452\n",
      "  1.0979211  0.8688475  1.3290498  0.69563955 1.6865997  1.3815296\n",
      "  1.3222976  0.56793976 0.76433015 1.7699108  0.26528633 1.1838574 ]\n",
      " [0.7566973  0.53050745 0.48860303 1.1243935  0.9245941  0.6210231\n",
      "  1.2650621  0.7199019  1.401058   0.8266795  0.9488589  1.3885903\n",
      "  1.126099   0.8438908  1.7368324  0.9663781  0.90465677 0.94646037\n",
      "  1.3086504  0.7073969  0.21503976 0.9870815  0.4139586  1.5405817 ]\n",
      " [1.3395172  1.0947192  1.0685432  1.0475127  0.6694527  0.42639428\n",
      "  0.77737445 0.61370695 0.6840869  0.43131298 0.6893669  1.1314327\n",
      "  1.2592018  0.94104064 1.2056158  1.1027454  1.1034551  0.9751565\n",
      "  0.97063154 0.6112836  0.6576065  0.93380946 0.19732194 0.6915688 ]]\n"
     ]
    },
    {
     "ename": "ValueError",
     "evalue": "operands could not be broadcast together with shapes (16,) (16,24) ",
     "output_type": "error",
     "traceback": [
      "\u001b[0;31m---------------------------------------------------------------------------\u001b[0m",
      "\u001b[0;31mValueError\u001b[0m                                Traceback (most recent call last)",
      "\u001b[0;32m<ipython-input-43-a61bd89380a1>\u001b[0m in \u001b[0;36m<module>\u001b[0;34m\u001b[0m\n\u001b[1;32m      5\u001b[0m \u001b[0mprint\u001b[0m\u001b[0;34m(\u001b[0m\u001b[0;34m\"C   = \"\u001b[0m\u001b[0;34m,\u001b[0m \u001b[0mc\u001b[0m\u001b[0;34m)\u001b[0m\u001b[0;34m\u001b[0m\u001b[0m\n\u001b[1;32m      6\u001b[0m \u001b[0mprint\u001b[0m\u001b[0;34m(\u001b[0m\u001b[0;34m\"Ref = \"\u001b[0m\u001b[0;34m,\u001b[0m \u001b[0mc_ref\u001b[0m\u001b[0;34m)\u001b[0m\u001b[0;34m\u001b[0m\u001b[0m\n\u001b[0;32m----> 7\u001b[0;31m \u001b[0mprint\u001b[0m\u001b[0;34m(\u001b[0m\u001b[0;34m\"Sad = \"\u001b[0m\u001b[0;34m,\u001b[0m \u001b[0mnp\u001b[0m\u001b[0;34m.\u001b[0m\u001b[0msum\u001b[0m\u001b[0;34m(\u001b[0m\u001b[0mnp\u001b[0m\u001b[0;34m.\u001b[0m\u001b[0mabs\u001b[0m\u001b[0;34m(\u001b[0m\u001b[0mc\u001b[0m \u001b[0;34m-\u001b[0m \u001b[0mc_ref\u001b[0m\u001b[0;34m)\u001b[0m\u001b[0;34m)\u001b[0m\u001b[0;34m)\u001b[0m\u001b[0;34m\u001b[0m\u001b[0m\n\u001b[0m",
      "\u001b[0;31mValueError\u001b[0m: operands could not be broadcast together with shapes (16,) (16,24) "
     ]
    }
   ],
   "source": [
    "#Compute reference using Numpy\n",
    "c_ref = a + b\n",
    "\n",
    "#Print result\n",
    "print(\"C   = \", c)\n",
    "print(\"Ref = \", c_ref)\n",
    "print(\"Sad = \", np.sum(np.abs(c - c_ref)))"
   ]
  },
  {
   "cell_type": "code",
   "execution_count": 44,
   "metadata": {},
   "outputs": [
    {
     "ename": "TypeError",
     "evalue": "Invalid dimensions for image data",
     "output_type": "error",
     "traceback": [
      "\u001b[0;31m---------------------------------------------------------------------------\u001b[0m",
      "\u001b[0;31mTypeError\u001b[0m                                 Traceback (most recent call last)",
      "\u001b[0;32m<ipython-input-44-3367dd99361e>\u001b[0m in \u001b[0;36m<module>\u001b[0;34m\u001b[0m\n\u001b[1;32m      1\u001b[0m \u001b[0mplt\u001b[0m\u001b[0;34m.\u001b[0m\u001b[0mfigure\u001b[0m\u001b[0;34m(\u001b[0m\u001b[0mfigsize\u001b[0m\u001b[0;34m=\u001b[0m\u001b[0;34m(\u001b[0m\u001b[0;36m12\u001b[0m\u001b[0;34m,\u001b[0m\u001b[0;36m8\u001b[0m\u001b[0;34m)\u001b[0m\u001b[0;34m)\u001b[0m\u001b[0;34m\u001b[0m\u001b[0m\n\u001b[1;32m      2\u001b[0m \u001b[0mplt\u001b[0m\u001b[0;34m.\u001b[0m\u001b[0msubplot\u001b[0m\u001b[0;34m(\u001b[0m\u001b[0;36m1\u001b[0m\u001b[0;34m,\u001b[0m\u001b[0;36m2\u001b[0m\u001b[0;34m,\u001b[0m\u001b[0;36m1\u001b[0m\u001b[0;34m)\u001b[0m\u001b[0;34m\u001b[0m\u001b[0m\n\u001b[0;32m----> 3\u001b[0;31m \u001b[0mplt\u001b[0m\u001b[0;34m.\u001b[0m\u001b[0mimshow\u001b[0m\u001b[0;34m(\u001b[0m\u001b[0mc\u001b[0m\u001b[0;34m)\u001b[0m\u001b[0;34m\u001b[0m\u001b[0m\n\u001b[0m\u001b[1;32m      4\u001b[0m \u001b[0mplt\u001b[0m\u001b[0;34m.\u001b[0m\u001b[0msubplot\u001b[0m\u001b[0;34m(\u001b[0m\u001b[0;36m1\u001b[0m\u001b[0;34m,\u001b[0m\u001b[0;36m2\u001b[0m\u001b[0;34m,\u001b[0m\u001b[0;36m2\u001b[0m\u001b[0;34m)\u001b[0m\u001b[0;34m\u001b[0m\u001b[0m\n\u001b[1;32m      5\u001b[0m \u001b[0mplt\u001b[0m\u001b[0;34m.\u001b[0m\u001b[0mimshow\u001b[0m\u001b[0;34m(\u001b[0m\u001b[0mc_ref\u001b[0m\u001b[0;34m)\u001b[0m\u001b[0;34m\u001b[0m\u001b[0m\n",
      "\u001b[0;32m/usr/lib/python3/dist-packages/matplotlib/pyplot.py\u001b[0m in \u001b[0;36mimshow\u001b[0;34m(X, cmap, norm, aspect, interpolation, alpha, vmin, vmax, origin, extent, shape, filternorm, filterrad, imlim, resample, url, hold, data, **kwargs)\u001b[0m\n\u001b[1;32m   3099\u001b[0m                         \u001b[0mfilternorm\u001b[0m\u001b[0;34m=\u001b[0m\u001b[0mfilternorm\u001b[0m\u001b[0;34m,\u001b[0m \u001b[0mfilterrad\u001b[0m\u001b[0;34m=\u001b[0m\u001b[0mfilterrad\u001b[0m\u001b[0;34m,\u001b[0m\u001b[0;34m\u001b[0m\u001b[0m\n\u001b[1;32m   3100\u001b[0m                         \u001b[0mimlim\u001b[0m\u001b[0;34m=\u001b[0m\u001b[0mimlim\u001b[0m\u001b[0;34m,\u001b[0m \u001b[0mresample\u001b[0m\u001b[0;34m=\u001b[0m\u001b[0mresample\u001b[0m\u001b[0;34m,\u001b[0m \u001b[0murl\u001b[0m\u001b[0;34m=\u001b[0m\u001b[0murl\u001b[0m\u001b[0;34m,\u001b[0m \u001b[0mdata\u001b[0m\u001b[0;34m=\u001b[0m\u001b[0mdata\u001b[0m\u001b[0;34m,\u001b[0m\u001b[0;34m\u001b[0m\u001b[0m\n\u001b[0;32m-> 3101\u001b[0;31m                         **kwargs)\n\u001b[0m\u001b[1;32m   3102\u001b[0m     \u001b[0;32mfinally\u001b[0m\u001b[0;34m:\u001b[0m\u001b[0;34m\u001b[0m\u001b[0m\n\u001b[1;32m   3103\u001b[0m         \u001b[0max\u001b[0m\u001b[0;34m.\u001b[0m\u001b[0m_hold\u001b[0m \u001b[0;34m=\u001b[0m \u001b[0mwashold\u001b[0m\u001b[0;34m\u001b[0m\u001b[0m\n",
      "\u001b[0;32m/usr/lib/python3/dist-packages/matplotlib/__init__.py\u001b[0m in \u001b[0;36minner\u001b[0;34m(ax, *args, **kwargs)\u001b[0m\n\u001b[1;32m   1716\u001b[0m                     warnings.warn(msg % (label_namer, func.__name__),\n\u001b[1;32m   1717\u001b[0m                                   RuntimeWarning, stacklevel=2)\n\u001b[0;32m-> 1718\u001b[0;31m             \u001b[0;32mreturn\u001b[0m \u001b[0mfunc\u001b[0m\u001b[0;34m(\u001b[0m\u001b[0max\u001b[0m\u001b[0;34m,\u001b[0m \u001b[0;34m*\u001b[0m\u001b[0margs\u001b[0m\u001b[0;34m,\u001b[0m \u001b[0;34m**\u001b[0m\u001b[0mkwargs\u001b[0m\u001b[0;34m)\u001b[0m\u001b[0;34m\u001b[0m\u001b[0m\n\u001b[0m\u001b[1;32m   1719\u001b[0m         \u001b[0mpre_doc\u001b[0m \u001b[0;34m=\u001b[0m \u001b[0minner\u001b[0m\u001b[0;34m.\u001b[0m\u001b[0m__doc__\u001b[0m\u001b[0;34m\u001b[0m\u001b[0m\n\u001b[1;32m   1720\u001b[0m         \u001b[0;32mif\u001b[0m \u001b[0mpre_doc\u001b[0m \u001b[0;32mis\u001b[0m \u001b[0;32mNone\u001b[0m\u001b[0;34m:\u001b[0m\u001b[0;34m\u001b[0m\u001b[0m\n",
      "\u001b[0;32m/usr/lib/python3/dist-packages/matplotlib/axes/_axes.py\u001b[0m in \u001b[0;36mimshow\u001b[0;34m(self, X, cmap, norm, aspect, interpolation, alpha, vmin, vmax, origin, extent, shape, filternorm, filterrad, imlim, resample, url, **kwargs)\u001b[0m\n\u001b[1;32m   5125\u001b[0m                               resample=resample, **kwargs)\n\u001b[1;32m   5126\u001b[0m \u001b[0;34m\u001b[0m\u001b[0m\n\u001b[0;32m-> 5127\u001b[0;31m         \u001b[0mim\u001b[0m\u001b[0;34m.\u001b[0m\u001b[0mset_data\u001b[0m\u001b[0;34m(\u001b[0m\u001b[0mX\u001b[0m\u001b[0;34m)\u001b[0m\u001b[0;34m\u001b[0m\u001b[0m\n\u001b[0m\u001b[1;32m   5128\u001b[0m         \u001b[0mim\u001b[0m\u001b[0;34m.\u001b[0m\u001b[0mset_alpha\u001b[0m\u001b[0;34m(\u001b[0m\u001b[0malpha\u001b[0m\u001b[0;34m)\u001b[0m\u001b[0;34m\u001b[0m\u001b[0m\n\u001b[1;32m   5129\u001b[0m         \u001b[0;32mif\u001b[0m \u001b[0mim\u001b[0m\u001b[0;34m.\u001b[0m\u001b[0mget_clip_path\u001b[0m\u001b[0;34m(\u001b[0m\u001b[0;34m)\u001b[0m \u001b[0;32mis\u001b[0m \u001b[0;32mNone\u001b[0m\u001b[0;34m:\u001b[0m\u001b[0;34m\u001b[0m\u001b[0m\n",
      "\u001b[0;32m/usr/lib/python3/dist-packages/matplotlib/image.py\u001b[0m in \u001b[0;36mset_data\u001b[0;34m(self, A)\u001b[0m\n\u001b[1;32m    609\u001b[0m         if not (self._A.ndim == 2\n\u001b[1;32m    610\u001b[0m                 or self._A.ndim == 3 and self._A.shape[-1] in [3, 4]):\n\u001b[0;32m--> 611\u001b[0;31m             \u001b[0;32mraise\u001b[0m \u001b[0mTypeError\u001b[0m\u001b[0;34m(\u001b[0m\u001b[0;34m\"Invalid dimensions for image data\"\u001b[0m\u001b[0;34m)\u001b[0m\u001b[0;34m\u001b[0m\u001b[0m\n\u001b[0m\u001b[1;32m    612\u001b[0m \u001b[0;34m\u001b[0m\u001b[0m\n\u001b[1;32m    613\u001b[0m         \u001b[0mself\u001b[0m\u001b[0;34m.\u001b[0m\u001b[0m_imcache\u001b[0m \u001b[0;34m=\u001b[0m \u001b[0;32mNone\u001b[0m\u001b[0;34m\u001b[0m\u001b[0m\n",
      "\u001b[0;31mTypeError\u001b[0m: Invalid dimensions for image data"
     ]
    },
    {
     "data": {
      "image/png": "[encoded data removed]",
      "text/plain": [
       "<matplotlib.figure.Figure at 0x7fb67846c390>"
      ]
     },
     "metadata": {
      "needs_background": "light"
     },
     "output_type": "display_data"
    }
   ],
   "source": [
    "plt.figure(figsize=(12,8))\n",
    "plt.subplot(1,2,1)\n",
    "plt.imshow(c)\n",
    "plt.subplot(1,2,2)\n",
    "plt.imshow(c_ref)"
   ]
  },
  {
   "cell_type": "code",
   "execution_count": null,
   "metadata": {},
   "outputs": [],
   "source": []
  }
 ],
 "metadata": {
  "kernelspec": {
   "display_name": "Python 3",
   "language": "python",
   "name": "python3"
  },
  "language_info": {
   "codemirror_mode": {
    "name": "ipython",
    "version": 3
   },
   "file_extension": ".py",
   "mimetype": "text/x-python",
   "name": "python",
   "nbconvert_exporter": "python",
   "pygments_lexer": "ipython3",
   "version": "3.6.6"
  }
 },
 "nbformat": 4,
 "nbformat_minor": 2
}
