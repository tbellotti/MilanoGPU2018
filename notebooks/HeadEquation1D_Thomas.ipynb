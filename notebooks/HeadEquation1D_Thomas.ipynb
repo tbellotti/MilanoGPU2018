{
 "cells": [
  {
   "cell_type": "code",
   "execution_count": null,
   "metadata": {},
   "outputs": [],
   "source": [
    "import numpy as np\n",
    "\n",
    "%matplotlib inline\n",
    "\n",
    "from matplotlib import pyplot as plt\n",
    "\n",
    "from Timer import Timer\n",
    "\n",
    "import IPythonMagic \n",
    "\n",
    "import pycuda\n",
    "import pycuda.compiler as cuda_compiler\n",
    "import pycuda.driver as cuda_driver\n",
    "from pycuda.gpuarray import GPUArray\n",
    "\n",
    "import pytest\n",
    "from ipytest import clean_tests, run_pytest\n",
    "\n"
   ]
  },
  {
   "cell_type": "code",
   "execution_count": null,
   "metadata": {},
   "outputs": [],
   "source": [
    "# From IPythonMagic file\n",
    "%setup_logging\n",
    "%cuda_context_handler"
   ]
  },
  {
   "cell_type": "code",
   "execution_count": null,
   "metadata": {},
   "outputs": [],
   "source": [
    "class HeatEquation1D(object):\n",
    "    \"\"\"\n",
    "    This class solver the 1D heat equation with an explicit finite differences method\n",
    "    \"\"\"\n",
    "    #Constructor\n",
    "    def __init__(self, u0, kappa, dx, dt):\n",
    "        self.u0    = u0.copy() #Otherwise we have a pointer....\n",
    "        self.u1    = np.empty_like(self.u0)\n",
    "        self.kappa = kappa\n",
    "        self.dx    = dx\n",
    "        self.dt    = dt   \n",
    "        self.nx    = self.u0.shape[0] - 2 # Excluding the boundary terms...\n",
    "        \n",
    "    def step(self):\n",
    "        for i in range(1, self.nx+1):\n",
    "            self.u1[i] = self.u0[i] \\\n",
    "                        + self.kappa*self.dt/(self.dx**2)*(self.u0[i-1] - 2.0*self.u0[i]+self.u0[i+1])\n",
    "        self.u1[0] = self.u1[1]\n",
    "        self.u1[self.nx+1] = self.u1[self.nx]\n",
    "        self.u0, self.u1 = self.u1, self.u0\n",
    "            \n",
    "    def download(self):\n",
    "        return self.u0.copy()"
   ]
  },
  {
   "cell_type": "code",
   "execution_count": null,
   "metadata": {},
   "outputs": [],
   "source": [
    "class HeatEquation1D_GPU(object):\n",
    "    \"\"\"\n",
    "    This class solver the 1D heat equation with an explicit finite differences method\n",
    "    on the GPU\n",
    "    \"\"\"\n",
    "    #Constructor\n",
    "    def __init__(self):\n",
    "        pass\n",
    "    \n",
    "    def createsKernel (self):\n",
    "        src = \"\"\" \n",
    "        \n",
    "        __global__ void heatEquation(float * u1, const float * u0, float kappa, float dx, float dt, int nx)\n",
    "        {\n",
    "                // To skip the first ghost cell (+1)\n",
    "                int i = blockIdx.x * blockDim.x + threadIdx.x + 1;\n",
    "                \n",
    "                if (i >= 0 && i <= nx){\n",
    "                    u1[i] = u0[i] + kappa*dt/(dx*dx)*(u0[i-1] - 2.0f*u0[i] + u0[i+1]);\n",
    "                }\n",
    "                \n",
    "        }\n",
    "        \n",
    "        // This is a device function we can call from the kernel\n",
    "        __device__ int computePi()\n",
    "        {\n",
    "            return 3.14156f;\n",
    "        }\n",
    "        \n",
    "        \"\"\"\n",
    "        self.module = cuda_compiler.SourceModule(src, options = ['-use_fast_math'])\n",
    "        \n",
    "        self.kernel = self.module.get_function(\"heatEquation\")\n",
    "        self.kernel.prepare(\"PPfffi\")\n",
    "        \n",
    "        # Create the kernel\n",
    "        self.createKernel()\n",
    "        \n",
    "    def initialize(self, u0, kappa, dx, dt):\n",
    "        self.kappa = np.float32(kappa)\n",
    "        self.dx    = np.float32(dx)\n",
    "        self.dt    = np.float32(dt)   \n",
    "        self.nx    = np.int32(u0.shape[0] - 2) # Excluding the boundary terms...\n",
    "        \n",
    "        # Allocates and uploads\n",
    "        assert u0.dtype == np.float32, \"u0 must be float\"\n",
    "        self.u0_g = GPUArray(u0.shape, u0.dtype)\n",
    "        self.u1_g = GPUArray(u0.shape, u0.dtype)\n",
    "        self.u0_g.set(u0)\n",
    "    \n",
    "    def step(self):\n",
    "        for i in range(1, self.nx+1):\n",
    "            self.u1[i] = self.u0[i] \\\n",
    "                        + self.kappa*self.dt/(self.dx**2)*(self.u0[i-1] - 2.0*self.u0[i]+self.u0[i+1])\n",
    "        self.u1[0] = self.u1[1]\n",
    "        self.u1[self.nx+1] = self.u1[self.nx]\n",
    "        self.u0, self.u1 = self.u1, self.u0\n",
    "            \n",
    "    def download(self):\n",
    "        return self.u0.copy()"
   ]
  },
  {
   "cell_type": "code",
   "execution_count": null,
   "metadata": {},
   "outputs": [],
   "source": [
    "    u0    = np.zeros(30)\n",
    "    u0[15] = 1;\n",
    "    kappa = 1.0\n",
    "    dx    = 1.0\n",
    "    dt    = 0.4 * dx**2 / (2*kappa) # To match the CFL condition for an explicit method. \n",
    "\n",
    "    simulator = HeatEquation1D(u0,kappa,dx,dt)\n",
    "    \n",
    "    simulator.step()\n",
    "    \n",
    "    \n",
    "    print(u0)\n",
    "    \n",
    "    result = simulator.download()\n",
    "    print(result)"
   ]
  },
  {
   "cell_type": "code",
   "execution_count": null,
   "metadata": {},
   "outputs": [],
   "source": [
    "    u0    = np.zeros(5,dtype=np.float32)\n",
    "    u0[2] = 1;\n",
    "    kappa = 1.0\n",
    "    dx    = 1.0\n",
    "    dt    = 0.4 * dx**2 / (2*kappa) # To match the CFL condition for an explicit method. \n",
    "\n",
    "    gpu_simulator = HeatEquation1D_GPU()\n",
    "    gpu_simulator.initialize(u0,kappa,dx,dt)\n",
    "    \n",
    "    #gpu_simulator.step()\n",
    "    \n",
    "    \n",
    "    #print(u0)\n",
    "    \n",
    "    #result = simulator.download()\n",
    "    #print(result)\n",
    "    \n",
    "    \n",
    "    #for i in range(10):\n",
    "    #simulator.step()\n",
    "    #result = simulator.download()\n",
    "    \n",
    "#fig = plt.figure()\n",
    "#plt.plot(result)\n"
   ]
  },
  {
   "cell_type": "code",
   "execution_count": 47,
   "metadata": {},
   "outputs": [
    {
     "data": {
      "text/plain": [
       "[<matplotlib.lines.Line2D at 0x7f7f6da72588>]"
      ]
     },
     "execution_count": 47,
     "metadata": {},
     "output_type": "execute_result"
    },
    {
     "data": {
      "image/png": "[encoded data removed]",
      "text/plain": [
       "<matplotlib.figure.Figure at 0x7f7f6dd12be0>"
      ]
     },
     "metadata": {
      "needs_background": "light"
     },
     "output_type": "display_data"
    }
   ],
   "source": [
    "for i in range(10):\n",
    "    simulator.step()\n",
    "    result = simulator.download()\n",
    "    \n",
    "fig = plt.figure()\n",
    "plt.plot(result)\n"
   ]
  },
  {
   "cell_type": "code",
   "execution_count": 18,
   "metadata": {},
   "outputs": [
    {
     "name": "stdout",
     "output_type": "stream",
     "text": [
      "============================= test session starts ==============================\n",
      "platform linux -- Python 3.6.6, pytest-3.8.2, py-1.6.0, pluggy-0.7.1 -- /usr/bin/python3\n",
      "cachedir: .pytest_cache\n",
      "rootdir: /home/ubuntu/jupyter_notebooks/Thomas_Bellotti/MilanoGPU2018/notebooks, inifile:\n",
      "collecting ... collected 1 item\n",
      "\n",
      "HeadEquation1D_Thomas.py::test_Heat_Equation_1D <- <ipython-input-18-caf0a34e670d> FAILED [100%]\n",
      "\n",
      "=================================== FAILURES ===================================\n",
      "____________________________ test_Heat_Equation_1D _____________________________\n",
      "\n",
      "    def test_Heat_Equation_1D():\n",
      "        u0    = np.zeros(15)\n",
      "        kappa = 1.0\n",
      "        dx    = 1.0\n",
      "        dt    = 0.4 * dx**2 / (2*kappa) # To match the CFL condition for an explicit method.\n",
      "    \n",
      "        simulator = HeatEquation1D(u0,kappa,dx,dt)\n",
      "    \n",
      "        assert np.all(u0  == simulator.u0)\n",
      "        assert kappa      == simulator.kappa\n",
      "        assert dx         == simulator.dx\n",
      "        assert dt         == simulator.dt\n",
      ">       assert simulator.u0.shape == simulator.u1.shape()\n",
      "E       TypeError: 'tuple' object is not callable\n",
      "\n",
      "<ipython-input-18-caf0a34e670d>:16: TypeError\n",
      "=========================== 1 failed in 0.05 seconds ===========================\n"
     ]
    },
    {
     "data": {
      "text/plain": [
       "1"
      ]
     },
     "execution_count": 18,
     "metadata": {},
     "output_type": "execute_result"
    }
   ],
   "source": [
    "\n",
    "clean_tests()\n",
    "\n",
    "def test_Heat_Equation_1D():\n",
    "    u0    = np.zeros(15)\n",
    "    kappa = 1.0\n",
    "    dx    = 1.0\n",
    "    dt    = 0.4 * dx**2 / (2*kappa) # To match the CFL condition for an explicit method. \n",
    "\n",
    "    simulator = HeatEquation1D(u0,kappa,dx,dt)\n",
    "    \n",
    "    assert np.all(u0  == simulator.u0)\n",
    "    assert kappa      == simulator.kappa\n",
    "    assert dx         == simulator.dx\n",
    "    assert dt         == simulator.dt\n",
    "    #assert simulator.u0.shape() == simulator.u1.shape()\n",
    "    \n",
    "run_pytest(filename = \"HeadEquation1D_Thomas.ipynb\", pytest_options=['-vvv'])\n",
    "    \n",
    "\n"
   ]
  }
 ],
 "metadata": {
  "kernelspec": {
   "display_name": "Python 3",
   "language": "python",
   "name": "python3"
  },
  "language_info": {
   "codemirror_mode": {
    "name": "ipython",
    "version": 3
   },
   "file_extension": ".py",
   "mimetype": "text/x-python",
   "name": "python",
   "nbconvert_exporter": "python",
   "pygments_lexer": "ipython3",
   "version": "3.6.6"
  }
 },
 "nbformat": 4,
 "nbformat_minor": 2
}
