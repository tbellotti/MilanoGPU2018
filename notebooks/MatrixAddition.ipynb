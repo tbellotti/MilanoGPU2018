{
 "cells": [
  {
   "cell_type": "markdown",
   "metadata": {},
   "source": [
    "# License\n",
    "\n",
    "    Jupyter notebook for accessing CUDA\n",
    "    Copyright (C) 2018 Andre.Brodtkorb@ifi.uio.no\n",
    "    changed in October by Thomas Bellotti\n",
    "\n",
    "    This program is free software: you can redistribute it and/or modify\n",
    "    it under the terms of the GNU General Public License as published by\n",
    "    the Free Software Foundation, either version 3 of the License, or\n",
    "    (at your option) any later version.\n",
    "\n",
    "    This program is distributed in the hope that it will be useful,\n",
    "    but WITHOUT ANY WARRANTY; without even the implied warranty of\n",
    "    MERCHANTABILITY or FITNESS FOR A PARTICULAR PURPOSE.  See the\n",
    "    GNU General Public License for more details.\n",
    "\n",
    "    You should have received a copy of the GNU General Public License\n",
    "    along with this program.  If not, see <http://www.gnu.org/licenses/>."
   ]
  },
  {
   "cell_type": "code",
   "execution_count": 9,
   "metadata": {},
   "outputs": [],
   "source": [
    "#Lets have matplotlib \"inline\"\n",
    "%matplotlib inline\n",
    "\n",
    "#Import packages we need\n",
    "import numpy as np\n",
    "import pycuda.compiler as cuda_compiler\n",
    "from pycuda.gpuarray import GPUArray\n",
    "import pycuda.driver as cuda_driver\n",
    "\n",
    "from matplotlib import pyplot as plt"
   ]
  },
  {
   "cell_type": "code",
   "execution_count": 10,
   "metadata": {},
   "outputs": [],
   "source": [
    "#Initialize CUDA - must be first call to CUDA!\n",
    "cuda_driver.init()"
   ]
  },
  {
   "cell_type": "code",
   "execution_count": 11,
   "metadata": {},
   "outputs": [
    {
     "name": "stdout",
     "output_type": "stream",
     "text": [
      "Using 'Tesla K80'\n",
      " => compute capability: (3, 7)\n",
      " => memory: 10272 / 11441 MB available\n"
     ]
    }
   ],
   "source": [
    "#Create CUDA context\n",
    "cuda_device = cuda_driver.Device(0)\n",
    "print(\"Using '{:s}'\".format(cuda_device.name()))\n",
    "print(\" => compute capability: {:s}\".format(str(cuda_device.compute_capability())))\n",
    "context = cuda_device.make_context()\n",
    "free, total = cuda_driver.mem_get_info()\n",
    "print(\" => memory: {:d} / {:d} MB available\".format(int(free/(1024*1024)), int(total/(1024*1024))))"
   ]
  },
  {
   "cell_type": "code",
   "execution_count": 17,
   "metadata": {},
   "outputs": [],
   "source": [
    "cuda_kernel = \"\"\"\n",
    "__global__ void addVectorKernel(float* c, float* a, float* b) {\n",
    "    unsigned int i = blockIdx.x*blockDim.x + threadIdx.x;\n",
    "    c[i] = a[i] + b[i];\n",
    "}\n",
    "\n",
    "__global__ void addMatrixKernel (float * c, float * a, float * b, int cols) {\n",
    "    unsigned int i = blockIdx.x*blockDim.x + threadIdx.x;\n",
    "    unsigned int j = blockIdx.y*blockDim.y + threadIdx.y;\n",
    "    // Do...\n",
    "    // c[j][i] = a[j][i] + b[j][i]\n",
    "    unsigned int k = j*cols + i;\n",
    "    c[k] = a[k] + b[k];\n",
    "}\n",
    "\"\"\"\n",
    "module = cuda_compiler.SourceModule(cuda_kernel)\n",
    "kernel = module.get_function(\"addMatrixKernel\");"
   ]
  },
  {
   "cell_type": "code",
   "execution_count": 21,
   "metadata": {},
   "outputs": [
    {
     "data": {
      "image/png": "[encoded data removed]",
      "text/plain": [
       "<matplotlib.figure.Figure at 0x7fbc62164630>"
      ]
     },
     "metadata": {
      "needs_background": "light"
     },
     "output_type": "display_data"
    }
   ],
   "source": [
    "#Size of our test\n",
    "test_size = (16,24)\n",
    "\n",
    "#Create test input / output data\n",
    "a = np.random.random(test_size).astype(np.float32)\n",
    "b = np.random.random(test_size).astype(np.float32)\n",
    "c = np.empty_like(a)\n",
    "\n",
    "fig = plt.figure(figsize = (12,8))\n",
    "plt.imshow(a)\n",
    "plt.colorbar()\n",
    "plt.show()"
   ]
  },
  {
   "cell_type": "code",
   "execution_count": 22,
   "metadata": {},
   "outputs": [
    {
     "name": "stdout",
     "output_type": "stream",
     "text": [
      "(16, 24)\n"
     ]
    }
   ],
   "source": [
    "print(a.shape)"
   ]
  },
  {
   "cell_type": "code",
   "execution_count": 23,
   "metadata": {},
   "outputs": [],
   "source": [
    "#Upload data to the device\n",
    "a_g = GPUArray(a.shape, np.float32)\n",
    "b_g = GPUArray(b.shape, np.float32)\n",
    "a_g.set(a)\n",
    "b_g.set(b)"
   ]
  },
  {
   "cell_type": "code",
   "execution_count": 24,
   "metadata": {},
   "outputs": [],
   "source": [
    "#Allocate output data\n",
    "c_g = GPUArray(c.shape, np.float32)"
   ]
  },
  {
   "cell_type": "code",
   "execution_count": 43,
   "metadata": {},
   "outputs": [
    {
     "name": "stdout",
     "output_type": "stream",
     "text": [
      "Block size = (8, 4, 1)\n",
      "Grid size = (3, 6, 1)\n",
      "Domain size = (24, 16)\n"
     ]
    }
   ],
   "source": [
    "# a.shape =  (rows, columns) --> [y,x]\n",
    "domain_size = (a.shape[1],a.shape[0]) # Now domain size is [x,y]\n",
    "block_size = (8,4,1) # This needs to be [x,y,z]\n",
    "grid_size = (domain_size[0] // block_size[0], domain_size[0] // block_size[1], 1) # // is the integer division in modern python\n",
    "print(\"Block size = \" + str(block_size))\n",
    "print(\"Grid size = \" + str (grid_size))\n",
    "print(\"Domain size = \" + str(domain_size))"
   ]
  },
  {
   "cell_type": "code",
   "execution_count": 47,
   "metadata": {},
   "outputs": [
    {
     "data": {
      "text/plain": [
       "array([[1.0834615 , 1.5281368 , 1.8149612 , 1.6337386 , 0.24441738,\n",
       "        0.7555903 , 0.99787664, 1.3846021 , 0.4354623 , 1.2255273 ,\n",
       "        1.4758794 , 0.48964003, 0.56522506, 1.1789427 , 1.1522462 ,\n",
       "        1.2021929 , 1.12947   , 0.90792936, 1.734854  , 1.3569767 ,\n",
       "        1.1973104 , 0.7004903 , 1.6446102 , 1.1655009 ],\n",
       "       [1.0565882 , 0.82113546, 1.6683561 , 0.32591105, 0.49372336,\n",
       "        1.0593784 , 1.5355791 , 1.4044461 , 0.15887126, 0.3038419 ,\n",
       "        1.6740857 , 1.1395177 , 0.9223587 , 0.67255604, 0.67521393,\n",
       "        1.0001469 , 0.8853015 , 1.4605575 , 1.7938154 , 0.53800464,\n",
       "        1.1898242 , 1.2071934 , 1.132252  , 0.6037556 ],\n",
       "       [0.8790716 , 1.0625613 , 0.33838782, 1.0727799 , 0.46387196,\n",
       "        1.3660516 , 1.3101726 , 0.677467  , 0.7843779 , 1.0472302 ,\n",
       "        1.6388357 , 0.75323445, 1.4129784 , 1.6473043 , 1.1416485 ,\n",
       "        1.2251991 , 1.2065946 , 0.9347696 , 0.7700708 , 1.3365352 ,\n",
       "        0.44234762, 1.5862851 , 1.1261129 , 0.9311296 ],\n",
       "       [1.1173426 , 1.1873872 , 1.0921302 , 0.9260248 , 0.9349743 ,\n",
       "        1.5243571 , 0.43206385, 1.5899186 , 1.2121317 , 0.80091   ,\n",
       "        0.5545784 , 0.8695101 , 1.0065138 , 0.8428113 , 0.79058653,\n",
       "        1.5000877 , 0.914934  , 1.162067  , 0.97016644, 1.4329529 ,\n",
       "        1.3431594 , 1.4104979 , 1.0696622 , 0.48286805],\n",
       "       [0.8005644 , 0.86367905, 1.5039244 , 0.5209625 , 1.1162349 ,\n",
       "        1.1911445 , 1.1225817 , 0.6554602 , 0.6685304 , 1.0190828 ,\n",
       "        1.098978  , 0.88551205, 0.6433938 , 1.2314684 , 1.5078306 ,\n",
       "        0.9541577 , 1.6095778 , 0.934535  , 0.37575185, 1.1318872 ,\n",
       "        1.344838  , 1.691262  , 0.8796685 , 1.4887326 ],\n",
       "       [1.5745208 , 1.0227904 , 0.32975155, 0.20646021, 1.3691458 ,\n",
       "        0.7829225 , 0.91668826, 0.8663362 , 1.0720181 , 0.33530757,\n",
       "        0.7926525 , 0.97006017, 0.7633756 , 0.14947027, 1.0441784 ,\n",
       "        0.6823561 , 1.8664914 , 0.8358164 , 0.83251053, 1.2599316 ,\n",
       "        0.6860023 , 0.35548964, 0.6326131 , 1.4815329 ],\n",
       "       [0.14260216, 1.4725065 , 0.9563142 , 0.46905905, 0.94763464,\n",
       "        1.3211534 , 1.2913108 , 1.1874405 , 1.7091801 , 1.202492  ,\n",
       "        1.221082  , 1.8470371 , 1.3531122 , 0.595893  , 1.7742574 ,\n",
       "        1.0717667 , 1.1739694 , 1.0740851 , 0.6797266 , 1.3553209 ,\n",
       "        1.1121714 , 0.62075317, 1.6207765 , 0.32017806],\n",
       "       [0.9745165 , 1.3918093 , 1.0079567 , 0.8006243 , 1.0569961 ,\n",
       "        0.99044615, 1.2585098 , 0.9203606 , 0.72981215, 1.0292485 ,\n",
       "        0.6899399 , 0.11106357, 1.542912  , 1.6020647 , 1.2966874 ,\n",
       "        0.7854503 , 1.0203303 , 1.5805234 , 0.88078415, 0.7085092 ,\n",
       "        1.4770446 , 1.0266821 , 1.0674573 , 0.4743211 ],\n",
       "       [1.6645923 , 0.9036362 , 0.7494317 , 1.3580437 , 1.1042602 ,\n",
       "        0.84798825, 0.902573  , 0.33856216, 0.5715916 , 1.1968771 ,\n",
       "        0.6607982 , 1.5499567 , 1.1945946 , 1.4622741 , 1.3505591 ,\n",
       "        1.2156758 , 0.8690238 , 0.6670716 , 1.4863575 , 1.0737851 ,\n",
       "        1.4365506 , 1.3725791 , 1.8165586 , 0.89603144],\n",
       "       [1.762367  , 1.6101904 , 0.7173244 , 0.6788951 , 1.1251502 ,\n",
       "        0.5010092 , 1.1510546 , 1.1337174 , 1.3485231 , 1.8456011 ,\n",
       "        0.3057901 , 0.29808086, 0.526734  , 0.75089437, 0.4035374 ,\n",
       "        1.3441861 , 1.4612508 , 1.3679883 , 1.2275715 , 0.54175764,\n",
       "        0.875419  , 0.327458  , 1.5955772 , 1.5408947 ],\n",
       "       [0.95238584, 1.0446348 , 1.3296347 , 1.3827512 , 1.7857165 ,\n",
       "        0.6367227 , 1.4986827 , 0.19690567, 1.7079909 , 0.5528693 ,\n",
       "        1.1465596 , 0.6280037 , 0.48898682, 0.4634854 , 0.8698777 ,\n",
       "        1.546716  , 1.0128385 , 0.7537011 , 1.5044335 , 0.99063635,\n",
       "        0.4333843 , 1.9368457 , 0.83336437, 0.8688048 ],\n",
       "       [1.4536381 , 1.6647025 , 1.7542632 , 0.49560568, 1.2473243 ,\n",
       "        1.2561612 , 1.0268211 , 0.34886518, 0.46572086, 0.84469414,\n",
       "        0.65427077, 1.7924106 , 0.941762  , 1.6995168 , 0.4588651 ,\n",
       "        0.8892901 , 0.6482466 , 1.0442458 , 0.5349787 , 0.8640762 ,\n",
       "        0.38001972, 0.5705345 , 0.11461121, 1.7053491 ],\n",
       "       [1.1547843 , 1.3116426 , 1.3693899 , 0.31187487, 0.78141433,\n",
       "        1.0380658 , 0.95089203, 0.36305732, 0.81185126, 1.0857868 ,\n",
       "        1.282902  , 1.3594192 , 1.0232453 , 1.315011  , 1.2055308 ,\n",
       "        1.4584    , 1.3088056 , 0.88159144, 0.70377755, 1.1275806 ,\n",
       "        0.86779255, 0.5807512 , 1.6560144 , 0.38013896],\n",
       "       [0.6646066 , 1.2989652 , 0.72473097, 0.8868604 , 0.98091567,\n",
       "        1.1708113 , 1.8808267 , 1.0609291 , 1.4150391 , 0.79042643,\n",
       "        1.7786233 , 0.6062878 , 1.2015188 , 0.9104906 , 0.70744264,\n",
       "        0.27916464, 1.3834229 , 1.0627639 , 1.2481816 , 1.1331273 ,\n",
       "        0.8218966 , 0.83931845, 1.1762917 , 1.1245397 ],\n",
       "       [1.101499  , 1.3107395 , 0.69937074, 1.4763083 , 1.0899255 ,\n",
       "        1.2528431 , 0.74204606, 1.386665  , 0.25856292, 1.8617492 ,\n",
       "        0.741486  , 1.4010935 , 1.2886157 , 1.041548  , 1.1646942 ,\n",
       "        1.2255182 , 0.8835434 , 0.47504318, 0.9840269 , 0.45750925,\n",
       "        0.6305889 , 1.3742243 , 1.2439933 , 1.1984631 ],\n",
       "       [0.9697335 , 1.055826  , 0.6386819 , 0.45707822, 1.1965058 ,\n",
       "        0.4757475 , 0.8149373 , 0.99354064, 1.1767597 , 0.5743075 ,\n",
       "        1.223924  , 1.2342913 , 1.1971997 , 1.135912  , 1.4740984 ,\n",
       "        1.4212956 , 1.3797085 , 0.7823013 , 0.70970976, 1.7324553 ,\n",
       "        0.82031876, 0.93956137, 1.2783052 , 0.43023944]], dtype=float32)"
      ]
     },
     "execution_count": 47,
     "metadata": {},
     "output_type": "execute_result"
    }
   ],
   "source": [
    "#Execute program on device\n",
    "kernel(c_g, a_g, b_g, np.int32(domain_size[0]), block=block_size, grid=grid_size)\n",
    "\n",
    "#Copy data from device to host\n",
    "c_g.get(c)"
   ]
  },
  {
   "cell_type": "code",
   "execution_count": 48,
   "metadata": {},
   "outputs": [
    {
     "name": "stdout",
     "output_type": "stream",
     "text": [
      "C   =  [[1.0834615  1.5281368  1.8149612  1.6337386  0.24441738 0.7555903\n",
      "  0.99787664 1.3846021  0.4354623  1.2255273  1.4758794  0.48964003\n",
      "  0.56522506 1.1789427  1.1522462  1.2021929  1.12947    0.90792936\n",
      "  1.734854   1.3569767  1.1973104  0.7004903  1.6446102  1.1655009 ]\n",
      " [1.0565882  0.82113546 1.6683561  0.32591105 0.49372336 1.0593784\n",
      "  1.5355791  1.4044461  0.15887126 0.3038419  1.6740857  1.1395177\n",
      "  0.9223587  0.67255604 0.67521393 1.0001469  0.8853015  1.4605575\n",
      "  1.7938154  0.53800464 1.1898242  1.2071934  1.132252   0.6037556 ]\n",
      " [0.8790716  1.0625613  0.33838782 1.0727799  0.46387196 1.3660516\n",
      "  1.3101726  0.677467   0.7843779  1.0472302  1.6388357  0.75323445\n",
      "  1.4129784  1.6473043  1.1416485  1.2251991  1.2065946  0.9347696\n",
      "  0.7700708  1.3365352  0.44234762 1.5862851  1.1261129  0.9311296 ]\n",
      " [1.1173426  1.1873872  1.0921302  0.9260248  0.9349743  1.5243571\n",
      "  0.43206385 1.5899186  1.2121317  0.80091    0.5545784  0.8695101\n",
      "  1.0065138  0.8428113  0.79058653 1.5000877  0.914934   1.162067\n",
      "  0.97016644 1.4329529  1.3431594  1.4104979  1.0696622  0.48286805]\n",
      " [0.8005644  0.86367905 1.5039244  0.5209625  1.1162349  1.1911445\n",
      "  1.1225817  0.6554602  0.6685304  1.0190828  1.098978   0.88551205\n",
      "  0.6433938  1.2314684  1.5078306  0.9541577  1.6095778  0.934535\n",
      "  0.37575185 1.1318872  1.344838   1.691262   0.8796685  1.4887326 ]\n",
      " [1.5745208  1.0227904  0.32975155 0.20646021 1.3691458  0.7829225\n",
      "  0.91668826 0.8663362  1.0720181  0.33530757 0.7926525  0.97006017\n",
      "  0.7633756  0.14947027 1.0441784  0.6823561  1.8664914  0.8358164\n",
      "  0.83251053 1.2599316  0.6860023  0.35548964 0.6326131  1.4815329 ]\n",
      " [0.14260216 1.4725065  0.9563142  0.46905905 0.94763464 1.3211534\n",
      "  1.2913108  1.1874405  1.7091801  1.202492   1.221082   1.8470371\n",
      "  1.3531122  0.595893   1.7742574  1.0717667  1.1739694  1.0740851\n",
      "  0.6797266  1.3553209  1.1121714  0.62075317 1.6207765  0.32017806]\n",
      " [0.9745165  1.3918093  1.0079567  0.8006243  1.0569961  0.99044615\n",
      "  1.2585098  0.9203606  0.72981215 1.0292485  0.6899399  0.11106357\n",
      "  1.542912   1.6020647  1.2966874  0.7854503  1.0203303  1.5805234\n",
      "  0.88078415 0.7085092  1.4770446  1.0266821  1.0674573  0.4743211 ]\n",
      " [1.6645923  0.9036362  0.7494317  1.3580437  1.1042602  0.84798825\n",
      "  0.902573   0.33856216 0.5715916  1.1968771  0.6607982  1.5499567\n",
      "  1.1945946  1.4622741  1.3505591  1.2156758  0.8690238  0.6670716\n",
      "  1.4863575  1.0737851  1.4365506  1.3725791  1.8165586  0.89603144]\n",
      " [1.762367   1.6101904  0.7173244  0.6788951  1.1251502  0.5010092\n",
      "  1.1510546  1.1337174  1.3485231  1.8456011  0.3057901  0.29808086\n",
      "  0.526734   0.75089437 0.4035374  1.3441861  1.4612508  1.3679883\n",
      "  1.2275715  0.54175764 0.875419   0.327458   1.5955772  1.5408947 ]\n",
      " [0.95238584 1.0446348  1.3296347  1.3827512  1.7857165  0.6367227\n",
      "  1.4986827  0.19690567 1.7079909  0.5528693  1.1465596  0.6280037\n",
      "  0.48898682 0.4634854  0.8698777  1.546716   1.0128385  0.7537011\n",
      "  1.5044335  0.99063635 0.4333843  1.9368457  0.83336437 0.8688048 ]\n",
      " [1.4536381  1.6647025  1.7542632  0.49560568 1.2473243  1.2561612\n",
      "  1.0268211  0.34886518 0.46572086 0.84469414 0.65427077 1.7924106\n",
      "  0.941762   1.6995168  0.4588651  0.8892901  0.6482466  1.0442458\n",
      "  0.5349787  0.8640762  0.38001972 0.5705345  0.11461121 1.7053491 ]\n",
      " [1.1547843  1.3116426  1.3693899  0.31187487 0.78141433 1.0380658\n",
      "  0.95089203 0.36305732 0.81185126 1.0857868  1.282902   1.3594192\n",
      "  1.0232453  1.315011   1.2055308  1.4584     1.3088056  0.88159144\n",
      "  0.70377755 1.1275806  0.86779255 0.5807512  1.6560144  0.38013896]\n",
      " [0.6646066  1.2989652  0.72473097 0.8868604  0.98091567 1.1708113\n",
      "  1.8808267  1.0609291  1.4150391  0.79042643 1.7786233  0.6062878\n",
      "  1.2015188  0.9104906  0.70744264 0.27916464 1.3834229  1.0627639\n",
      "  1.2481816  1.1331273  0.8218966  0.83931845 1.1762917  1.1245397 ]\n",
      " [1.101499   1.3107395  0.69937074 1.4763083  1.0899255  1.2528431\n",
      "  0.74204606 1.386665   0.25856292 1.8617492  0.741486   1.4010935\n",
      "  1.2886157  1.041548   1.1646942  1.2255182  0.8835434  0.47504318\n",
      "  0.9840269  0.45750925 0.6305889  1.3742243  1.2439933  1.1984631 ]\n",
      " [0.9697335  1.055826   0.6386819  0.45707822 1.1965058  0.4757475\n",
      "  0.8149373  0.99354064 1.1767597  0.5743075  1.223924   1.2342913\n",
      "  1.1971997  1.135912   1.4740984  1.4212956  1.3797085  0.7823013\n",
      "  0.70970976 1.7324553  0.82031876 0.93956137 1.2783052  0.43023944]]\n",
      "Ref =  [[1.0834615  1.5281368  1.8149612  1.6337386  0.24441738 0.7555903\n",
      "  0.99787664 1.3846021  0.4354623  1.2255273  1.4758794  0.48964003\n",
      "  0.56522506 1.1789427  1.1522462  1.2021929  1.12947    0.90792936\n",
      "  1.734854   1.3569767  1.1973104  0.7004903  1.6446102  1.1655009 ]\n",
      " [1.0565882  0.82113546 1.6683561  0.32591105 0.49372336 1.0593784\n",
      "  1.5355791  1.4044461  0.15887126 0.3038419  1.6740857  1.1395177\n",
      "  0.9223587  0.67255604 0.67521393 1.0001469  0.8853015  1.4605575\n",
      "  1.7938154  0.53800464 1.1898242  1.2071934  1.132252   0.6037556 ]\n",
      " [0.8790716  1.0625613  0.33838782 1.0727799  0.46387196 1.3660516\n",
      "  1.3101726  0.677467   0.7843779  1.0472302  1.6388357  0.75323445\n",
      "  1.4129784  1.6473043  1.1416485  1.2251991  1.2065946  0.9347696\n",
      "  0.7700708  1.3365352  0.44234762 1.5862851  1.1261129  0.9311296 ]\n",
      " [1.1173426  1.1873872  1.0921302  0.9260248  0.9349743  1.5243571\n",
      "  0.43206385 1.5899186  1.2121317  0.80091    0.5545784  0.8695101\n",
      "  1.0065138  0.8428113  0.79058653 1.5000877  0.914934   1.162067\n",
      "  0.97016644 1.4329529  1.3431594  1.4104979  1.0696622  0.48286805]\n",
      " [0.8005644  0.86367905 1.5039244  0.5209625  1.1162349  1.1911445\n",
      "  1.1225817  0.6554602  0.6685304  1.0190828  1.098978   0.88551205\n",
      "  0.6433938  1.2314684  1.5078306  0.9541577  1.6095778  0.934535\n",
      "  0.37575185 1.1318872  1.344838   1.691262   0.8796685  1.4887326 ]\n",
      " [1.5745208  1.0227904  0.32975155 0.20646021 1.3691458  0.7829225\n",
      "  0.91668826 0.8663362  1.0720181  0.33530757 0.7926525  0.97006017\n",
      "  0.7633756  0.14947027 1.0441784  0.6823561  1.8664914  0.8358164\n",
      "  0.83251053 1.2599316  0.6860023  0.35548964 0.6326131  1.4815329 ]\n",
      " [0.14260216 1.4725065  0.9563142  0.46905905 0.94763464 1.3211534\n",
      "  1.2913108  1.1874405  1.7091801  1.202492   1.221082   1.8470371\n",
      "  1.3531122  0.595893   1.7742574  1.0717667  1.1739694  1.0740851\n",
      "  0.6797266  1.3553209  1.1121714  0.62075317 1.6207765  0.32017806]\n",
      " [0.9745165  1.3918093  1.0079567  0.8006243  1.0569961  0.99044615\n",
      "  1.2585098  0.9203606  0.72981215 1.0292485  0.6899399  0.11106357\n",
      "  1.542912   1.6020647  1.2966874  0.7854503  1.0203303  1.5805234\n",
      "  0.88078415 0.7085092  1.4770446  1.0266821  1.0674573  0.4743211 ]\n",
      " [1.6645923  0.9036362  0.7494317  1.3580437  1.1042602  0.84798825\n",
      "  0.902573   0.33856216 0.5715916  1.1968771  0.6607982  1.5499567\n",
      "  1.1945946  1.4622741  1.3505591  1.2156758  0.8690238  0.6670716\n",
      "  1.4863575  1.0737851  1.4365506  1.3725791  1.8165586  0.89603144]\n",
      " [1.762367   1.6101904  0.7173244  0.6788951  1.1251502  0.5010092\n",
      "  1.1510546  1.1337174  1.3485231  1.8456011  0.3057901  0.29808086\n",
      "  0.526734   0.75089437 0.4035374  1.3441861  1.4612508  1.3679883\n",
      "  1.2275715  0.54175764 0.875419   0.327458   1.5955772  1.5408947 ]\n",
      " [0.95238584 1.0446348  1.3296347  1.3827512  1.7857165  0.6367227\n",
      "  1.4986827  0.19690567 1.7079909  0.5528693  1.1465596  0.6280037\n",
      "  0.48898682 0.4634854  0.8698777  1.546716   1.0128385  0.7537011\n",
      "  1.5044335  0.99063635 0.4333843  1.9368457  0.83336437 0.8688048 ]\n",
      " [1.4536381  1.6647025  1.7542632  0.49560568 1.2473243  1.2561612\n",
      "  1.0268211  0.34886518 0.46572086 0.84469414 0.65427077 1.7924106\n",
      "  0.941762   1.6995168  0.4588651  0.8892901  0.6482466  1.0442458\n",
      "  0.5349787  0.8640762  0.38001972 0.5705345  0.11461121 1.7053491 ]\n",
      " [1.1547843  1.3116426  1.3693899  0.31187487 0.78141433 1.0380658\n",
      "  0.95089203 0.36305732 0.81185126 1.0857868  1.282902   1.3594192\n",
      "  1.0232453  1.315011   1.2055308  1.4584     1.3088056  0.88159144\n",
      "  0.70377755 1.1275806  0.86779255 0.5807512  1.6560144  0.38013896]\n",
      " [0.6646066  1.2989652  0.72473097 0.8868604  0.98091567 1.1708113\n",
      "  1.8808267  1.0609291  1.4150391  0.79042643 1.7786233  0.6062878\n",
      "  1.2015188  0.9104906  0.70744264 0.27916464 1.3834229  1.0627639\n",
      "  1.2481816  1.1331273  0.8218966  0.83931845 1.1762917  1.1245397 ]\n",
      " [1.101499   1.3107395  0.69937074 1.4763083  1.0899255  1.2528431\n",
      "  0.74204606 1.386665   0.25856292 1.8617492  0.741486   1.4010935\n",
      "  1.2886157  1.041548   1.1646942  1.2255182  0.8835434  0.47504318\n",
      "  0.9840269  0.45750925 0.6305889  1.3742243  1.2439933  1.1984631 ]\n",
      " [0.9697335  1.055826   0.6386819  0.45707822 1.1965058  0.4757475\n",
      "  0.8149373  0.99354064 1.1767597  0.5743075  1.223924   1.2342913\n",
      "  1.1971997  1.135912   1.4740984  1.4212956  1.3797085  0.7823013\n",
      "  0.70970976 1.7324553  0.82031876 0.93956137 1.2783052  0.43023944]]\n",
      "Sad =  0.0\n"
     ]
    }
   ],
   "source": [
    "#Compute reference using Numpy\n",
    "c_ref = a + b\n",
    "\n",
    "#Print result\n",
    "print(\"C   = \", c)\n",
    "print(\"Ref = \", c_ref)\n",
    "print(\"Sad = \", np.sum(np.abs(c - c_ref)))"
   ]
  },
  {
   "cell_type": "code",
   "execution_count": 49,
   "metadata": {},
   "outputs": [
    {
     "data": {
      "text/plain": [
       "<matplotlib.image.AxesImage at 0x7fbc61d62d30>"
      ]
     },
     "execution_count": 49,
     "metadata": {},
     "output_type": "execute_result"
    },
    {
     "data": {
      "image/png": "[encoded data removed]",
      "text/plain": [
       "<matplotlib.figure.Figure at 0x7fbc61dff3c8>"
      ]
     },
     "metadata": {
      "needs_background": "light"
     },
     "output_type": "display_data"
    }
   ],
   "source": [
    "plt.figure(figsize=(12,8))\n",
    "plt.subplot(1,2,1)\n",
    "plt.imshow(c)\n",
    "plt.subplot(1,2,2)\n",
    "plt.imshow(c_ref)"
   ]
  },
  {
   "cell_type": "code",
   "execution_count": null,
   "metadata": {},
   "outputs": [],
   "source": []
  }
 ],
 "metadata": {
  "kernelspec": {
   "display_name": "Python 3",
   "language": "python",
   "name": "python3"
  },
  "language_info": {
   "codemirror_mode": {
    "name": "ipython",
    "version": 3
   },
   "file_extension": ".py",
   "mimetype": "text/x-python",
   "name": "python",
   "nbconvert_exporter": "python",
   "pygments_lexer": "ipython3",
   "version": "3.6.6"
  }
 },
 "nbformat": 4,
 "nbformat_minor": 2
}
